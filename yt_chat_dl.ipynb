{
 "cells": [
  {
   "cell_type": "code",
   "execution_count": 19,
   "metadata": {},
   "outputs": [],
   "source": [
    "import chat_downloader as cd \n",
    "import pandas as pd \n",
    "import numpy as np \n",
    "import matplotlib.pyplot as plt \n",
    "\n",
    "from typing import List \n",
    "\n",
    "from datetime import datetime \n",
    "\n",
    "plt.style.use('default')\n",
    "plt.rcParams['figure.dpi'] = 150"
   ]
  },
  {
   "cell_type": "code",
   "execution_count": 25,
   "metadata": {},
   "outputs": [],
   "source": [
    "def get_chat(url: str, **kwargs):\n",
    "    chat = cd.ChatDownloader().get_chat(url, **kwargs)    \n",
    "    return chat\n",
    "\n",
    "def get_freq(chat, words: List[str]) -> pd.DataFrame:\n",
    "    time = [] \n",
    "    cnt = []\n",
    "    for c in chat:\n",
    "        n = sum([w in c['message'] for w in words])\n",
    "        if n > 0:\n",
    "            time.append(c['time_in_seconds'])\n",
    "            cnt.append(n)\n",
    "    \n",
    "    df = pd.DataFrame(data={'Time' : time, 'Count' : cnt})\n",
    "    return df "
   ]
  },
  {
   "cell_type": "code",
   "execution_count": 26,
   "metadata": {},
   "outputs": [],
   "source": [
    "chat = get_chat(r'https://youtu.be/lkx_UCS5VzA')"
   ]
  },
  {
   "cell_type": "code",
   "execution_count": 73,
   "metadata": {},
   "outputs": [],
   "source": [
    "df = get_freq(\n",
    "    chat,\n",
    "    ['泣', 'エモ', r'😭'],\n",
    ")"
   ]
  },
  {
   "cell_type": "code",
   "execution_count": 75,
   "metadata": {},
   "outputs": [],
   "source": [
    "df.Time = df.Time.astype(float)"
   ]
  },
  {
   "cell_type": "code",
   "execution_count": 77,
   "metadata": {},
   "outputs": [
    {
     "name": "stdout",
     "output_type": "stream",
     "text": [
      "<class 'pandas.core.frame.DataFrame'>\n",
      "RangeIndex: 0 entries\n",
      "Data columns (total 2 columns):\n",
      " #   Column  Non-Null Count  Dtype  \n",
      "---  ------  --------------  -----  \n",
      " 0   Time    0 non-null      float64\n",
      " 1   Count   0 non-null      float64\n",
      "dtypes: float64(2)\n",
      "memory usage: 124.0 bytes\n"
     ]
    }
   ],
   "source": []
  },
  {
   "cell_type": "code",
   "execution_count": null,
   "metadata": {},
   "outputs": [],
   "source": []
  }
 ],
 "metadata": {
  "interpreter": {
   "hash": "843a5b6921057d017fd5104d0b78cb360574ed255324330cec2104e1cc4df9e3"
  },
  "kernelspec": {
   "display_name": "Python 3.10.1 64-bit",
   "language": "python",
   "name": "python3"
  },
  "language_info": {
   "codemirror_mode": {
    "name": "ipython",
    "version": 3
   },
   "file_extension": ".py",
   "mimetype": "text/x-python",
   "name": "python",
   "nbconvert_exporter": "python",
   "pygments_lexer": "ipython3",
   "version": "3.10.1"
  },
  "orig_nbformat": 4
 },
 "nbformat": 4,
 "nbformat_minor": 2
}
