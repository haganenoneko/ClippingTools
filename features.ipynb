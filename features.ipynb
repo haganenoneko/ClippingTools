{
 "cells": [
  {
   "cell_type": "code",
   "execution_count": 4,
   "metadata": {},
   "outputs": [],
   "source": [
    "import audiofile\n",
    "import numpy as np \n",
    "import pandas as pd \n",
    "from pathlib import Path \n",
    "import librosa.feature as LF \n",
    "\n",
    "datadir = Path.cwd() / 'data'"
   ]
  },
  {
   "cell_type": "code",
   "execution_count": 7,
   "metadata": {},
   "outputs": [],
   "source": [
    "from VoiceClassifier.common import AudioClip\n",
    "\n",
    "prefix = r\"ichinose_tamaki_taidan\"\n",
    "clip = AudioClip(datadir / f\"{prefix}.m4a\")"
   ]
  },
  {
   "cell_type": "code",
   "execution_count": 44,
   "metadata": {},
   "outputs": [
    {
     "data": {
      "text/plain": [
       "(19.769806, 1.135981e-07)"
      ]
     },
     "execution_count": 44,
     "metadata": {},
     "output_type": "execute_result"
    }
   ],
   "source": [
    "# difference between channels\n",
    "dChannel = (clip.data[0,:] - clip.data[1,:])\n",
    "np.sum(dChannel), np.mean(dChannel)"
   ]
  },
  {
   "cell_type": "code",
   "execution_count": 32,
   "metadata": {},
   "outputs": [
    {
     "name": "stdout",
     "output_type": "stream",
     "text": [
      "{'Ichinose': 0, 'Tamaki': 1}\n"
     ]
    },
    {
     "data": {
      "text/html": [
       "<div>\n",
       "<style scoped>\n",
       "    .dataframe tbody tr th:only-of-type {\n",
       "        vertical-align: middle;\n",
       "    }\n",
       "\n",
       "    .dataframe tbody tr th {\n",
       "        vertical-align: top;\n",
       "    }\n",
       "\n",
       "    .dataframe thead th {\n",
       "        text-align: right;\n",
       "    }\n",
       "</style>\n",
       "<table border=\"1\" class=\"dataframe\">\n",
       "  <thead>\n",
       "    <tr style=\"text-align: right;\">\n",
       "      <th></th>\n",
       "      <th>Speaker</th>\n",
       "      <th>ASS_index</th>\n",
       "      <th>Start_samples</th>\n",
       "      <th>End_samples</th>\n",
       "    </tr>\n",
       "  </thead>\n",
       "  <tbody>\n",
       "    <tr>\n",
       "      <th>0</th>\n",
       "      <td>0</td>\n",
       "      <td>6</td>\n",
       "      <td>12522195</td>\n",
       "      <td>12572910</td>\n",
       "    </tr>\n",
       "    <tr>\n",
       "      <th>1</th>\n",
       "      <td>0</td>\n",
       "      <td>12</td>\n",
       "      <td>13121955</td>\n",
       "      <td>13847841</td>\n",
       "    </tr>\n",
       "    <tr>\n",
       "      <th>2</th>\n",
       "      <td>0</td>\n",
       "      <td>17</td>\n",
       "      <td>13948830</td>\n",
       "      <td>14142870</td>\n",
       "    </tr>\n",
       "    <tr>\n",
       "      <th>3</th>\n",
       "      <td>0</td>\n",
       "      <td>23</td>\n",
       "      <td>14737338</td>\n",
       "      <td>14926527</td>\n",
       "    </tr>\n",
       "    <tr>\n",
       "      <th>4</th>\n",
       "      <td>0</td>\n",
       "      <td>28</td>\n",
       "      <td>15316812</td>\n",
       "      <td>15636978</td>\n",
       "    </tr>\n",
       "  </tbody>\n",
       "</table>\n",
       "</div>"
      ],
      "text/plain": [
       "   Speaker  ASS_index  Start_samples  End_samples\n",
       "0        0          6       12522195     12572910\n",
       "1        0         12       13121955     13847841\n",
       "2        0         17       13948830     14142870\n",
       "3        0         23       14737338     14926527\n",
       "4        0         28       15316812     15636978"
      ]
     },
     "execution_count": 32,
     "metadata": {},
     "output_type": "execute_result"
    }
   ],
   "source": [
    "def load_data(prefix: str) -> tuple[pd.DataFrame, dict[str, int]]:\n",
    "    df_ts = pd.read_csv(\n",
    "        datadir / f\"{prefix}_merge-subs.csv\", \n",
    "        index_col=[0,1]\n",
    "    ).\\\n",
    "        rename_axis(index=[\"Speaker\", \"ASS_index\"]).\\\n",
    "        reset_index().\\\n",
    "        loc[:, ['Speaker', 'ASS_index', 'Start_samples', 'End_samples']]\n",
    "\n",
    "    encoding: dict[str, int] = {name : i for i, name in enumerate(df_ts['Speaker'].unique())}\n",
    "    df_ts['Speaker'] = df_ts['Speaker'].replace(encoding)\n",
    "    return df_ts, encoding \n",
    "\n",
    "df_ts, encoding = load_data(prefix)\n",
    "\n",
    "print(encoding)\n",
    "df_ts.head()"
   ]
  },
  {
   "cell_type": "code",
   "execution_count": 62,
   "metadata": {},
   "outputs": [],
   "source": [
    "def get_ts(ind: int, df=df_ts) -> list[int]:\n",
    "    a, b = df.loc[df.ASS_index == ind, ['Start_samples', 'End_samples']].values[0]\n",
    "    return a, b\n",
    "\n",
    "def double_mean(X: np.ndarray) -> np.ndarray:\n",
    "    return np.mean(np.mean(X, axis=0), axis=1)"
   ]
  },
  {
   "cell_type": "code",
   "execution_count": 43,
   "metadata": {},
   "outputs": [
    {
     "data": {
      "text/plain": [
       "(2, 725886)"
      ]
     },
     "execution_count": 43,
     "metadata": {},
     "output_type": "execute_result"
    }
   ],
   "source": [
    "test = clip.clip(*get_ts(12))\n",
    "test.shape"
   ]
  },
  {
   "cell_type": "code",
   "execution_count": 65,
   "metadata": {},
   "outputs": [
    {
     "data": {
      "text/plain": [
       "(40,)"
      ]
     },
     "execution_count": 65,
     "metadata": {},
     "output_type": "execute_result"
    }
   ],
   "source": [
    "double_mean(LF.mfcc(y=test, sr=clip.rate, n_mfcc=40).T).shape"
   ]
  },
  {
   "cell_type": "code",
   "execution_count": 56,
   "metadata": {},
   "outputs": [
    {
     "data": {
      "text/plain": [
       "(2, 1025, 1418)"
      ]
     },
     "execution_count": 56,
     "metadata": {},
     "output_type": "execute_result"
    }
   ],
   "source": [
    "stft = np.abs(librosa.stft(test))\n",
    "stft.shape"
   ]
  },
  {
   "cell_type": "code",
   "execution_count": 70,
   "metadata": {},
   "outputs": [
    {
     "data": {
      "text/plain": [
       "(12,)"
      ]
     },
     "execution_count": 70,
     "metadata": {},
     "output_type": "execute_result"
    }
   ],
   "source": [
    "double_mean(LF.chroma_stft(S=stft, sr=clip.rate).T).shape"
   ]
  },
  {
   "cell_type": "code",
   "execution_count": 67,
   "metadata": {},
   "outputs": [
    {
     "data": {
      "text/plain": [
       "(128,)"
      ]
     },
     "execution_count": 67,
     "metadata": {},
     "output_type": "execute_result"
    }
   ],
   "source": [
    "double_mean(LF.melspectrogram(y=test, sr=clip.rate).T).shape"
   ]
  },
  {
   "cell_type": "code",
   "execution_count": 69,
   "metadata": {},
   "outputs": [
    {
     "data": {
      "text/plain": [
       "(7,)"
      ]
     },
     "execution_count": 69,
     "metadata": {},
     "output_type": "execute_result"
    }
   ],
   "source": [
    "double_mean(LF.spectral_contrast(y=test, sr=clip.rate).T).shape"
   ]
  },
  {
   "cell_type": "code",
   "execution_count": 72,
   "metadata": {},
   "outputs": [
    {
     "data": {
      "text/plain": [
       "(6,)"
      ]
     },
     "execution_count": 72,
     "metadata": {},
     "output_type": "execute_result"
    }
   ],
   "source": [
    "from librosa.effects import harmonic \n",
    "double_mean(LF.tonnetz(y=harmonic(test), sr=clip.rate).T).shape"
   ]
  },
  {
   "cell_type": "code",
   "execution_count": null,
   "metadata": {},
   "outputs": [],
   "source": []
  }
 ],
 "metadata": {
  "kernelspec": {
   "display_name": "Python 3.10.1 64-bit",
   "language": "python",
   "name": "python3"
  },
  "language_info": {
   "codemirror_mode": {
    "name": "ipython",
    "version": 3
   },
   "file_extension": ".py",
   "mimetype": "text/x-python",
   "name": "python",
   "nbconvert_exporter": "python",
   "pygments_lexer": "ipython3",
   "version": "3.10.1"
  },
  "orig_nbformat": 4,
  "vscode": {
   "interpreter": {
    "hash": "0802380955fb45c42ee6af905daa4975880d5bbc2e5380e844e48fb5cddadf4a"
   }
  }
 },
 "nbformat": 4,
 "nbformat_minor": 2
}
